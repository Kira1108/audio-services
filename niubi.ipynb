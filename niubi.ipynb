{
 "cells": [
  {
   "cell_type": "code",
   "execution_count": 34,
   "id": "5e5b2a9f",
   "metadata": {},
   "outputs": [],
   "source": [
    "from funasr_onnx import Paraformer\n",
    "\n",
    "onnx_model = Paraformer(\n",
    "    model_dir = \"/Users/mac/Desktop/audio-services/resources/modelscope/hub/iic/speech_seaco_paraformer_large_asr_nat-zh-cn-16k-common-vocab8404-pytorch\", \n",
    "    device = 'cpu',\n",
    "    quantize = True, \n",
    "    batch_size=1\n",
    ")"
   ]
  },
  {
   "cell_type": "code",
   "execution_count": 33,
   "id": "0c9dcb39",
   "metadata": {},
   "outputs": [
    {
     "name": "stderr",
     "output_type": "stream",
     "text": [
      "[2025/05/12 16:27:31] funasr_onnx WARNING: input wav is silence or noise\n"
     ]
    },
    {
     "data": {
      "text/plain": [
       "[]"
      ]
     },
     "execution_count": 33,
     "metadata": {},
     "output_type": "execute_result"
    }
   ],
   "source": [
    "onnx_model([\"/Users/mac/Desktop/audio-services/cache/recording.wav\"])"
   ]
  },
  {
   "cell_type": "code",
   "execution_count": null,
   "id": "3b2930ee",
   "metadata": {},
   "outputs": [
    {
     "name": "stdout",
     "output_type": "stream",
     "text": [
      "funasr version: 1.2.6.\n",
      "Check update of funasr, and it would cost few times. You may disable it by set `disable_update=True` in AutoModel\n",
      "You are using the latest version of funasr-1.2.6\n",
      "Downloading Model from https://www.modelscope.cn to directory: /Users/mac/.cache/modelscope/hub/models/iic/speech_paraformer-large_asr_nat-zh-cn-16k-common-vocab8404-pytorch\n"
     ]
    },
    {
     "name": "stderr",
     "output_type": "stream",
     "text": [
      "2025-05-12 16:28:07,647 - modelscope - WARNING - Using branch: master as version is unstable, use with caution\n",
      "2025-05-12 16:28:08,359 - modelscope - INFO - Got 1 files, start to download ...\n"
     ]
    },
    {
     "data": {
      "application/vnd.jupyter.widget-view+json": {
       "model_id": "31001890f95c47d6909996a2eff90868",
       "version_major": 2,
       "version_minor": 0
      },
      "text/plain": [
       "Processing 1 items:   0%|          | 0.00/1.00 [00:00<?, ?it/s]"
      ]
     },
     "metadata": {},
     "output_type": "display_data"
    },
    {
     "data": {
      "application/vnd.jupyter.widget-view+json": {
       "model_id": "313a66cf6fd9429db0064c5a16982f06",
       "version_major": 2,
       "version_minor": 0
      },
      "text/plain": [
       "Downloading [README.md]:   0%|          | 0.00/19.2k [00:00<?, ?B/s]"
      ]
     },
     "metadata": {},
     "output_type": "display_data"
    },
    {
     "name": "stderr",
     "output_type": "stream",
     "text": [
      "2025-05-12 16:28:13,761 - modelscope - INFO - Download model 'iic/speech_paraformer-large_asr_nat-zh-cn-16k-common-vocab8404-pytorch' successfully.\n"
     ]
    }
   ],
   "source": [
    "from funasr import AutoModel\n",
    "m = AutoModel(\n",
    "    model=\"paraformer\",  \n",
    ")\n",
    "\n",
    "res = m.export(quantize=False, disable_update = True)"
   ]
  },
  {
   "cell_type": "code",
   "execution_count": 1,
   "id": "cf19a6ac",
   "metadata": {},
   "outputs": [],
   "source": [
    "from funasr_onnx import Paraformer\n",
    "\n",
    "onnx_model = Paraformer(\n",
    "    model_dir = \"/Users/mac/Desktop/audio-services/resources/modelscope/hub/iic/speech_paraformer-large_asr_nat-zh-cn-16k-common-vocab8404-pytorch\", \n",
    "    device = 'cpu',\n",
    "    quantize = True, \n",
    "    batch_size=1,\n",
    "    disable_update = True\n",
    ")\n"
   ]
  },
  {
   "cell_type": "code",
   "execution_count": 2,
   "id": "92aa42fa",
   "metadata": {},
   "outputs": [],
   "source": [
    "# read audio file into waveform\n",
    "import soundfile\n",
    "\n",
    "audio = soundfile.read(\"/Users/mac/Desktop/audio-services/cache/recording.wav\", dtype='int16')[0]"
   ]
  },
  {
   "cell_type": "code",
   "execution_count": 1,
   "id": "6c882dd4",
   "metadata": {},
   "outputs": [
    {
     "name": "stdout",
     "output_type": "stream",
     "text": [
      "/Users/mac/Desktop/audio-services/resources/modelscope/hub/iic/speech_paraformer-large_asr_nat-zh-cn-16k-common-vocab8404-pytorch\n",
      "cuda:1\n",
      "funasr version: 1.2.6.\n"
     ]
    },
    {
     "name": "stderr",
     "output_type": "stream",
     "text": [
      "Building prefix dict from the default dictionary ...\n",
      "DEBUG:jieba:Building prefix dict from the default dictionary ...\n",
      "Dumping model to file cache /var/folders/j6/f80xln3917v1vnxzy9sqw6v40000gn/T/jieba.cache\n",
      "DEBUG:jieba:Dumping model to file cache /var/folders/j6/f80xln3917v1vnxzy9sqw6v40000gn/T/jieba.cache\n",
      "Loading model cost 0.405 seconds.\n",
      "DEBUG:jieba:Loading model cost 0.405 seconds.\n",
      "Prefix dict has been built successfully.\n",
      "DEBUG:jieba:Prefix dict has been built successfully.\n"
     ]
    }
   ],
   "source": [
    "from app.asr.offline import ParaformerOffline\n",
    "\n",
    "model = ParaformerOffline()"
   ]
  },
  {
   "cell_type": "code",
   "execution_count": 12,
   "id": "fa6e037e",
   "metadata": {},
   "outputs": [
    {
     "name": "stderr",
     "output_type": "stream",
     "text": [
      "rtf_avg: -0.056: 100%|\u001b[34m██████████\u001b[0m| 1/1 [00:00<00:00, 17.51it/s]                                                                                  "
     ]
    },
    {
     "name": "stdout",
     "output_type": "stream",
     "text": [
      "Taking 0.44527721405029297 seconds\n"
     ]
    },
    {
     "name": "stderr",
     "output_type": "stream",
     "text": [
      "\n"
     ]
    }
   ],
   "source": [
    "import time\n",
    "start = time.time()\n",
    "model.run(audio)\n",
    "end = time.time()\n",
    "print(f\"Taking {end-start} seconds\")"
   ]
  },
  {
   "cell_type": "code",
   "execution_count": 16,
   "id": "62034b03",
   "metadata": {},
   "outputs": [
    {
     "name": "stdout",
     "output_type": "stream",
     "text": [
      "inference taking 0.3474249839782715 seconds\n"
     ]
    }
   ],
   "source": [
    "import time\n",
    "start = time.time()\n",
    "res = onnx_model(audio)\n",
    "end = time.time()\n",
    "print(f\"inference taking {end-start} seconds\")"
   ]
  },
  {
   "cell_type": "code",
   "execution_count": 19,
   "id": "cc3cb5fd",
   "metadata": {},
   "outputs": [
    {
     "data": {
      "text/plain": [
       "'你好你好今天你开心吗你们公司有什么产品你们公司是做金融的吗'"
      ]
     },
     "execution_count": 19,
     "metadata": {},
     "output_type": "execute_result"
    }
   ],
   "source": []
  },
  {
   "cell_type": "code",
   "execution_count": null,
   "id": "d9be1a39",
   "metadata": {},
   "outputs": [],
   "source": [
    "onnx_model([])"
   ]
  },
  {
   "cell_type": "code",
   "execution_count": 61,
   "id": "1211f16a",
   "metadata": {},
   "outputs": [
    {
     "name": "stdout",
     "output_type": "stream",
     "text": [
      "Time taken:  0.21201634407043457\n"
     ]
    },
    {
     "data": {
      "text/plain": [
       "'欢迎大家来体验达摩院推出的语音识别模型'"
      ]
     },
     "execution_count": 61,
     "metadata": {},
     "output_type": "execute_result"
    }
   ],
   "source": [
    "import time\n",
    "start = time.time()\n",
    "result = onnx_model([\"/Users/mac/Desktop/audio-services/cache/asr_example.wav\"])\n",
    "end = time.time()\n",
    "print(\"Time taken: \", end - start)\n",
    "result[0]['preds'][0]"
   ]
  },
  {
   "cell_type": "code",
   "execution_count": null,
   "id": "71a09b28",
   "metadata": {},
   "outputs": [],
   "source": []
  }
 ],
 "metadata": {
  "kernelspec": {
   "display_name": "base",
   "language": "python",
   "name": "python3"
  },
  "language_info": {
   "codemirror_mode": {
    "name": "ipython",
    "version": 3
   },
   "file_extension": ".py",
   "mimetype": "text/x-python",
   "name": "python",
   "nbconvert_exporter": "python",
   "pygments_lexer": "ipython3",
   "version": "3.12.2"
  }
 },
 "nbformat": 4,
 "nbformat_minor": 5
}
